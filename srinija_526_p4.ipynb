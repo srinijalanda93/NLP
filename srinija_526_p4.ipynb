{
 "cells": [
  {
   "cell_type": "code",
   "execution_count": 17,
   "metadata": {},
   "outputs": [],
   "source": [
    "import pandas as pd\n",
    "import numpy as  np\n",
    "import matplotlib.pyplot as plt"
   ]
  },
  {
   "cell_type": "code",
   "execution_count": 18,
   "metadata": {},
   "outputs": [],
   "source": [
    "import nltk\n",
    "import re\n",
    "import string\n",
    "from sklearn.model_selection import train_test_split\n",
    "import seaborn as sns\n",
    "import os"
   ]
  },
  {
   "cell_type": "code",
   "execution_count": null,
   "metadata": {},
   "outputs": [],
   "source": [
    "# ఈ,కలిగి,ఉండి,ఇది,గల,ఉన్నాయి"
   ]
  },
  {
   "cell_type": "code",
   "execution_count": 19,
   "metadata": {},
   "outputs": [
    {
     "name": "stdout",
     "output_type": "stream",
     "text": [
      "                                                text language\n",
      "0  భారతదేశం 142 కోట్లకు పైగా జనాభాతో ప్రపంచంలో మొ...   Telugu\n",
      "1  భారతదేశం 142 కోట్లకు పైగా జనాభాతో ప్రపంచంలో మొ...   Telugu\n",
      "2  ಭಾರತ, ಅಧಿಕೃತವಾಗಿ ಭಾರತ ಗಣರಾಜ್ಯ, ಅಥವಾ ಇಂಡಿಯಾ (In...  Kannada\n",
      "3  ಭಾರತ, ಅಧಿಕೃತವಾಗಿ ಭಾರತ ಗಣರಾಜ್ಯ, ಅಥವಾ ಇಂಡಿಯಾ (In...  Kannada\n",
      "4  भारत (आधिकारिक नाम: भारत गणराज्य, अंग्रेज़ी: R...    Hindi\n",
      "5  ಭಾರತ, ಅಧಿಕೃತವಾಗಿ ಭಾರತ ಗಣರಾಜ್ಯ, ಅಥವಾ ಇಂಡಿಯಾ (In...  Kannada\n"
     ]
    }
   ],
   "source": [
    "data=pd.read_csv(\"shuffled_language_data.csv\")\n",
    "print(data.head(6))\n",
    "df=data"
   ]
  },
  {
   "cell_type": "code",
   "execution_count": 20,
   "metadata": {},
   "outputs": [
    {
     "name": "stdout",
     "output_type": "stream",
     "text": [
      "(229, 2)\n"
     ]
    }
   ],
   "source": [
    "print(df.shape)"
   ]
  },
  {
   "cell_type": "code",
   "execution_count": 21,
   "metadata": {},
   "outputs": [
    {
     "name": "stdout",
     "output_type": "stream",
     "text": [
      "    language                                  preprocessed_text\n",
      "0     Telugu  భారతదేశం కోట్లకు పైగా జనాభాతో ప్రపంచంలో మొదటి ...\n",
      "1     Telugu  భారతదేశం కోట్లకు పైగా జనాభాతో ప్రపంచంలో మొదటి ...\n",
      "2    Kannada  ಭಾರತ ಅಧಿಕೃತವಾಗಿ ಭಾರತ ಗಣರಾಜ್ಯ ಅಥವಾ ಇಂಡಿಯಾ india...\n",
      "3    Kannada  ಭಾರತ ಅಧಿಕೃತವಾಗಿ ಭಾರತ ಗಣರಾಜ್ಯ ಅಥವಾ ಇಂಡಿಯಾ india...\n",
      "4      Hindi  भारत आधिकारिक नाम भारत गणराज्य अंग्रेज़ी repub...\n",
      "..       ...                                                ...\n",
      "224    Hindi  भारत आधिकारिक नाम भारत गणराज्य अंग्रेज़ी repub...\n",
      "225  Kannada  ಭಾರತ ಅಧಿಕೃತವಾಗಿ ಭಾರತ ಗಣರಾಜ್ಯ ಅಥವಾ ಇಂಡಿಯಾ india...\n",
      "226  Kannada  ಭಾರತ ಅಧಿಕೃತವಾಗಿ ಭಾರತ ಗಣರಾಜ್ಯ ಅಥವಾ ಇಂಡಿಯಾ india...\n",
      "227   Telugu  భారతదేశం కోట్లకు పైగా జనాభాతో ప్రపంచంలో మొదటి ...\n",
      "228   Telugu  భారతదేశం కోట్లకు పైగా జనాభాతో ప్రపంచంలో మొదటి ...\n",
      "\n",
      "[229 rows x 2 columns]\n"
     ]
    }
   ],
   "source": [
    "import re\n",
    "import pandas as pd\n",
    "import unicodedata\n",
    "\n",
    "# Define custom stopwords for Telugu, Hindi, and Kannada\n",
    "telugu_stopwords = {\"ఈ\", \"కలిగి\", \"ఉండి\", \"ఇది\", \"గల\", \"ఉన్నాయి\"}\n",
    "hindi_stopwords = {\"है\", \"का\", \"की\", \"और\", \"में\", \"के\", \"से\", \"को\", \"हैं\", \"यह\", \"साथ\"}\n",
    "kannada_stopwords = {\"ಆಗ\", \"ಹಿಂದೆ\", \"ಮತ್ತು\", \"ಇದು\", \"ಅವರು\", \"ಒಂದು\"}\n",
    "\n",
    "# Preprocess the text\n",
    "def preprocess_text(text, language):\n",
    "    # Unicode normalization to handle inconsistencies\n",
    "    text = unicodedata.normalize('NFKC', text)\n",
    "    \n",
    "    \n",
    "    text = re.sub(r'\\d+', '', text)  # Remove numbers\n",
    "    # Remove punctuation while keeping script characters\n",
    "    text = re.sub(r'[^\\w\\s\\u0900-\\u097F\\u0C00-\\u0C7F\\u0C80-\\u0CFF]', '', text)  \n",
    "    \n",
    "    # Convert text to lowercase\n",
    "    text = text.lower()\n",
    "    \n",
    "    # Assign stopwords based on language\n",
    "    stopwords_set = {\n",
    "        \"Telugu\": telugu_stopwords,\n",
    "        \"Hindi\": hindi_stopwords,\n",
    "        \"Kannada\": kannada_stopwords\n",
    "    }.get(language, set())\n",
    "\n",
    "    # Tokenization & Stopword Removal\n",
    "    words = text.split()\n",
    "    filtered_words = [word for word in words if word not in stopwords_set]\n",
    "\n",
    "    # Reconstruct cleaned text\n",
    "    return \" \".join(filtered_words)\n",
    "\n",
    "# Apply preprocessing to each row\n",
    "df[\"preprocessed_text\"] = df.apply(lambda row: preprocess_text(row[\"text\"], row[\"language\"]), axis=1)\n",
    "\n",
    "# Display the preprocessed text\n",
    "print(df[[\"language\", \"preprocessed_text\"]])\n"
   ]
  },
  {
   "cell_type": "code",
   "execution_count": 48,
   "metadata": {},
   "outputs": [
    {
     "name": "stderr",
     "output_type": "stream",
     "text": [
      "C:\\Users\\lsrin\\AppData\\Local\\Temp\\ipykernel_10708\\2669606780.py:9: FutureWarning: \n",
      "\n",
      "Passing `palette` without assigning `hue` is deprecated and will be removed in v0.14.0. Assign the `x` variable to `hue` and set `legend=False` for the same effect.\n",
      "\n",
      "  sns.barplot(x=language_counts.index, y=language_counts.values, palette=\"viridis\")\n"
     ]
    },
    {
     "data": {
      "image/png": "[encoded data removed]",
      "text/plain": [
       "<Figure size 800x500 with 1 Axes>"
      ]
     },
     "metadata": {},
     "output_type": "display_data"
    },
    {
     "name": "stdout",
     "output_type": "stream",
     "text": [
      "language\n",
      "Telugu     1\n",
      "Hindi      1\n",
      "Kannada    1\n",
      "Name: count, dtype: int64\n"
     ]
    }
   ],
   "source": [
    "import matplotlib.pyplot as plt\n",
    "import seaborn as sns\n",
    "\n",
    "# Count occurrences of each language\n",
    "language_counts = df[\"language\"].value_counts()\n",
    "\n",
    "# Plot the distribution\n",
    "plt.figure(figsize=(8, 5))\n",
    "sns.barplot(x=language_counts.index, y=language_counts.values, palette=\"viridis\")\n",
    "plt.xlabel(\"Language\")\n",
    "plt.ylabel(\"Count\")\n",
    "plt.title(\"Distribution of Languages in the Dataset\")\n",
    "plt.show()\n",
    "\n",
    "# Print language distribution counts\n",
    "print(language_counts)\n"
   ]
  },
  {
   "cell_type": "code",
   "execution_count": 49,
   "metadata": {},
   "outputs": [
    {
     "name": "stdout",
     "output_type": "stream",
     "text": [
      "  language  total_words  avg_sentence_length  \\\n",
      "0   Telugu           42                 42.0   \n",
      "1    Hindi           31                 15.5   \n",
      "2  Kannada           30                 30.0   \n",
      "\n",
      "                                   most_common_words  \n",
      "0  [(ఉన్న, 3), (దేశం, 2), (ఒక, 2), (సామర్థ్యం, 2)...  \n",
      "1  [(भारत, 3), (सबसे, 2), (बड़ा, 2), (देश, 2), (ह...  \n",
      "2  [(ಅತಿ, 3), (ಭಾರತ, 2), (ದೊಡ್ಡ, 2), (ಪ್ರಪಂಚದ, 2)...  \n"
     ]
    }
   ],
   "source": [
    "from collections import Counter\n",
    "\n",
    "\n",
    "# Function to count word frequencies\n",
    "def get_word_frequencies(text):\n",
    "    words = text.split()\n",
    "    return Counter(words)\n",
    "\n",
    "# Function to calculate sentence lengths (assuming sentences end with a full stop)\n",
    "def get_sentence_lengths(text):\n",
    "    sentences = text.split(\"।\") if \"।\" in text else text.split(\".\")  # Adjust for Hindi punctuation\n",
    "    return [len(sentence.split()) for sentence in sentences if sentence.strip()]\n",
    "\n",
    "# Initialize storage for statistics\n",
    "stats = {\n",
    "    \"language\": [],\n",
    "    \"total_words\": [],\n",
    "    \"avg_sentence_length\": [],\n",
    "    \"most_common_words\": []\n",
    "}\n",
    "\n",
    "# Process each row\n",
    "for index, row in df.iterrows():\n",
    "    text = row[\"preprocessed_text\"]\n",
    "    language = row[\"language\"]\n",
    "\n",
    "    # Word frequencies\n",
    "    word_freq = get_word_frequencies(text)\n",
    "    most_common_words = word_freq.most_common(5)  # Top 5 words\n",
    "\n",
    "    # Sentence lengths\n",
    "    sentence_lengths = get_sentence_lengths(text)\n",
    "    avg_sentence_length = np.mean(sentence_lengths) if sentence_lengths else 0\n",
    "\n",
    "    # Store results\n",
    "    stats[\"language\"].append(language)\n",
    "    stats[\"total_words\"].append(len(text.split()))\n",
    "    stats[\"avg_sentence_length\"].append(avg_sentence_length)\n",
    "    stats[\"most_common_words\"].append(most_common_words)\n",
    "\n",
    "# Convert to DataFrame\n",
    "stats_df = pd.DataFrame(stats)\n",
    "\n",
    "# Display statistics\n",
    "print(stats_df)"
   ]
  },
  {
   "cell_type": "markdown",
   "metadata": {},
   "source": [
    "Feature Extraction"
   ]
  },
  {
   "cell_type": "code",
   "execution_count": 50,
   "metadata": {},
   "outputs": [
    {
     "name": "stdout",
     "output_type": "stream",
     "text": [
      "Character n-grams Shape: (3, 1877)\n",
      "Word n-grams Shape: (3, 141)\n",
      "TF-IDF Shape: (3, 141)\n"
     ]
    }
   ],
   "source": [
    "from sklearn.feature_extraction.text import CountVectorizer, TfidfVectorizer\n",
    "\n",
    "# Character n-grams (Example: n = 3 for trigrams)\n",
    "char_vectorizer = CountVectorizer(analyzer='char', ngram_range=(3, 5))  # Trigrams to 5-grams\n",
    "char_features = char_vectorizer.fit_transform(df[\"preprocessed_text\"])\n",
    "\n",
    "# Word n-grams (Example: n = 2 for bigrams)\n",
    "word_vectorizer = CountVectorizer(analyzer='word', ngram_range=(1, 2))  # Unigrams & bigrams\n",
    "word_features = word_vectorizer.fit_transform(df[\"preprocessed_text\"])\n",
    "\n",
    "# TF-IDF Vectorizer (Unigrams & Bigrams)\n",
    "tfidf_vectorizer = TfidfVectorizer(analyzer='word', ngram_range=(1, 2))\n",
    "tfidf_features = tfidf_vectorizer.fit_transform(df[\"preprocessed_text\"])\n",
    "\n",
    "# Display Feature Shapes\n",
    "print(\"Character n-grams Shape:\", char_features.shape)\n",
    "print(\"Word n-grams Shape:\", word_features.shape)\n",
    "print(\"TF-IDF Shape:\", tfidf_features.shape)\n"
   ]
  },
  {
   "cell_type": "markdown",
   "metadata": {},
   "source": [
    "word embeddings, we will use word2vec"
   ]
  },
  {
   "cell_type": "code",
   "execution_count": 41,
   "metadata": {},
   "outputs": [
    {
     "name": "stdout",
     "output_type": "stream",
     "text": [
      "Requirement already satisfied: gensim in c:\\users\\lsrin\\anaconda3\\lib\\site-packages (4.3.3)Note: you may need to restart the kernel to use updated packages.\n",
      "\n",
      "Requirement already satisfied: numpy<2.0,>=1.18.5 in c:\\users\\lsrin\\anaconda3\\lib\\site-packages (from gensim) (1.26.4)\n",
      "Requirement already satisfied: scipy<1.14.0,>=1.7.0 in c:\\users\\lsrin\\anaconda3\\lib\\site-packages (from gensim) (1.13.1)\n",
      "Requirement already satisfied: smart-open>=1.8.1 in c:\\users\\lsrin\\anaconda3\\lib\\site-packages (from gensim) (5.2.1)\n"
     ]
    }
   ],
   "source": [
    "pip install gensim\n"
   ]
  },
  {
   "cell_type": "code",
   "execution_count": 39,
   "metadata": {},
   "outputs": [
    {
     "name": "stdout",
     "output_type": "stream",
     "text": [
      "Requirement already satisfied: scipy in c:\\users\\lsrin\\anaconda3\\lib\\site-packages (1.13.1)\n",
      "Collecting scipy\n",
      "  Downloading scipy-1.15.2-cp312-cp312-win_amd64.whl.metadata (60 kB)\n",
      "     ---------------------------------------- 0.0/60.8 kB ? eta -:--:--\n",
      "     ------ --------------------------------- 10.2/60.8 kB ? eta -:--:--\n",
      "     ------------ ------------------------- 20.5/60.8 kB 217.9 kB/s eta 0:00:01\n",
      "     -------------------------------- ----- 51.2/60.8 kB 327.7 kB/s eta 0:00:01\n",
      "     -------------------------------------- 60.8/60.8 kB 360.9 kB/s eta 0:00:00\n",
      "Requirement already satisfied: gensim in c:\\users\\lsrin\\anaconda3\\lib\\site-packages (4.3.2)\n",
      "Collecting gensim\n",
      "  Downloading gensim-4.3.3-cp312-cp312-win_amd64.whl.metadata (8.2 kB)\n",
      "Requirement already satisfied: numpy<2.5,>=1.23.5 in c:\\users\\lsrin\\anaconda3\\lib\\site-packages (from scipy) (1.26.4)\n",
      "Requirement already satisfied: smart-open>=1.8.1 in c:\\users\\lsrin\\anaconda3\\lib\\site-packages (from gensim) (5.2.1)\n",
      "Downloading gensim-4.3.3-cp312-cp312-win_amd64.whl (24.0 MB)\n",
      "   ---------------------------------------- 0.0/24.0 MB ? eta -:--:--\n",
      "   ---------------------------------------- 0.2/24.0 MB 5.8 MB/s eta 0:00:05\n",
      "    --------------------------------------- 0.5/24.0 MB 5.8 MB/s eta 0:00:05\n",
      "   - -------------------------------------- 0.8/24.0 MB 6.6 MB/s eta 0:00:04\n",
      "   - -------------------------------------- 1.0/24.0 MB 7.0 MB/s eta 0:00:04\n",
      "   -- ------------------------------------- 1.2/24.0 MB 5.5 MB/s eta 0:00:05\n",
      "   -- ------------------------------------- 1.5/24.0 MB 5.9 MB/s eta 0:00:04\n",
      "   --- ------------------------------------ 1.8/24.0 MB 5.9 MB/s eta 0:00:04\n",
      "   --- ------------------------------------ 2.2/24.0 MB 6.0 MB/s eta 0:00:04\n",
      "   ---- ----------------------------------- 2.5/24.0 MB 6.2 MB/s eta 0:00:04\n",
      "   ---- ----------------------------------- 2.8/24.0 MB 6.2 MB/s eta 0:00:04\n",
      "   ----- ---------------------------------- 3.2/24.0 MB 6.3 MB/s eta 0:00:04\n",
      "   ----- ---------------------------------- 3.5/24.0 MB 6.3 MB/s eta 0:00:04\n",
      "   ------ --------------------------------- 3.8/24.0 MB 6.4 MB/s eta 0:00:04\n",
      "   ------ --------------------------------- 4.2/24.0 MB 6.5 MB/s eta 0:00:04\n",
      "   ------- -------------------------------- 4.5/24.0 MB 6.6 MB/s eta 0:00:03\n",
      "   -------- ------------------------------- 4.9/24.0 MB 6.6 MB/s eta 0:00:03\n",
      "   -------- ------------------------------- 5.2/24.0 MB 6.6 MB/s eta 0:00:03\n",
      "   --------- ------------------------------ 5.5/24.0 MB 6.6 MB/s eta 0:00:03\n",
      "   --------- ------------------------------ 5.8/24.0 MB 6.6 MB/s eta 0:00:03\n",
      "   ---------- ----------------------------- 6.1/24.0 MB 6.6 MB/s eta 0:00:03\n",
      "   ---------- ----------------------------- 6.5/24.0 MB 6.6 MB/s eta 0:00:03\n",
      "   ----------- ---------------------------- 6.8/24.0 MB 6.7 MB/s eta 0:00:03\n",
      "   ----------- ---------------------------- 7.1/24.0 MB 6.7 MB/s eta 0:00:03\n",
      "   ------------ --------------------------- 7.5/24.0 MB 6.7 MB/s eta 0:00:03\n",
      "   ------------ --------------------------- 7.8/24.0 MB 6.7 MB/s eta 0:00:03\n",
      "   ------------- -------------------------- 8.2/24.0 MB 6.8 MB/s eta 0:00:03\n",
      "   -------------- ------------------------- 8.5/24.0 MB 6.8 MB/s eta 0:00:03\n",
      "   -------------- ------------------------- 8.8/24.0 MB 6.8 MB/s eta 0:00:03\n",
      "   --------------- ------------------------ 9.2/24.0 MB 6.9 MB/s eta 0:00:03\n",
      "   --------------- ------------------------ 9.6/24.0 MB 6.9 MB/s eta 0:00:03\n",
      "   ---------------- ----------------------- 9.9/24.0 MB 6.9 MB/s eta 0:00:03\n",
      "   ----------------- ---------------------- 10.2/24.0 MB 6.9 MB/s eta 0:00:02\n",
      "   ----------------- ---------------------- 10.6/24.0 MB 7.0 MB/s eta 0:00:02\n",
      "   ------------------ --------------------- 10.9/24.0 MB 7.0 MB/s eta 0:00:02\n",
      "   ------------------ --------------------- 11.3/24.0 MB 7.2 MB/s eta 0:00:02\n",
      "   ------------------- -------------------- 11.7/24.0 MB 7.2 MB/s eta 0:00:02\n",
      "   ------------------- -------------------- 12.0/24.0 MB 7.2 MB/s eta 0:00:02\n",
      "   -------------------- ------------------- 12.3/24.0 MB 7.2 MB/s eta 0:00:02\n",
      "   -------------------- ------------------- 12.6/24.0 MB 7.1 MB/s eta 0:00:02\n",
      "   --------------------- ------------------ 13.0/24.0 MB 7.2 MB/s eta 0:00:02\n",
      "   ---------------------- ----------------- 13.3/24.0 MB 7.3 MB/s eta 0:00:02\n",
      "   ---------------------- ----------------- 13.6/24.0 MB 7.2 MB/s eta 0:00:02\n",
      "   ----------------------- ---------------- 13.9/24.0 MB 7.2 MB/s eta 0:00:02\n",
      "   ----------------------- ---------------- 14.3/24.0 MB 7.3 MB/s eta 0:00:02\n",
      "   ------------------------ --------------- 14.7/24.0 MB 7.3 MB/s eta 0:00:02\n",
      "   ------------------------- -------------- 15.1/24.0 MB 7.3 MB/s eta 0:00:02\n",
      "   ------------------------- -------------- 15.5/24.0 MB 7.4 MB/s eta 0:00:02\n",
      "   -------------------------- ------------- 15.7/24.0 MB 7.3 MB/s eta 0:00:02\n",
      "   -------------------------- ------------- 16.1/24.0 MB 7.4 MB/s eta 0:00:02\n",
      "   --------------------------- ------------ 16.4/24.0 MB 7.4 MB/s eta 0:00:02\n",
      "   --------------------------- ------------ 16.5/24.0 MB 7.1 MB/s eta 0:00:02\n",
      "   --------------------------- ------------ 16.7/24.0 MB 7.0 MB/s eta 0:00:02\n",
      "   ---------------------------- ----------- 16.9/24.0 MB 7.0 MB/s eta 0:00:02\n",
      "   ---------------------------- ----------- 17.1/24.0 MB 6.9 MB/s eta 0:00:01\n",
      "   ----------------------------- ---------- 17.4/24.0 MB 6.9 MB/s eta 0:00:01\n",
      "   ----------------------------- ---------- 17.7/24.0 MB 6.9 MB/s eta 0:00:01\n",
      "   ----------------------------- ---------- 18.0/24.0 MB 6.8 MB/s eta 0:00:01\n",
      "   ------------------------------ --------- 18.2/24.0 MB 6.7 MB/s eta 0:00:01\n",
      "   ------------------------------ --------- 18.6/24.0 MB 6.7 MB/s eta 0:00:01\n",
      "   ------------------------------- -------- 18.9/24.0 MB 6.7 MB/s eta 0:00:01\n",
      "   -------------------------------- ------- 19.3/24.0 MB 6.7 MB/s eta 0:00:01\n",
      "   -------------------------------- ------- 19.5/24.0 MB 6.7 MB/s eta 0:00:01\n",
      "   --------------------------------- ------ 19.9/24.0 MB 6.6 MB/s eta 0:00:01\n",
      "   --------------------------------- ------ 20.3/24.0 MB 6.6 MB/s eta 0:00:01\n",
      "   ---------------------------------- ----- 20.5/24.0 MB 6.7 MB/s eta 0:00:01\n",
      "   ---------------------------------- ----- 20.7/24.0 MB 6.5 MB/s eta 0:00:01\n",
      "   ----------------------------------- ---- 21.0/24.0 MB 6.5 MB/s eta 0:00:01\n",
      "   ----------------------------------- ---- 21.5/24.0 MB 6.5 MB/s eta 0:00:01\n",
      "   ------------------------------------ --- 21.8/24.0 MB 6.5 MB/s eta 0:00:01\n",
      "   ------------------------------------ --- 22.1/24.0 MB 6.5 MB/s eta 0:00:01\n",
      "   ------------------------------------- -- 22.5/24.0 MB 6.5 MB/s eta 0:00:01\n",
      "   ------------------------------------- -- 22.8/24.0 MB 6.5 MB/s eta 0:00:01\n",
      "   -------------------------------------- - 23.1/24.0 MB 6.5 MB/s eta 0:00:01\n",
      "   -------------------------------------- - 23.4/24.0 MB 6.5 MB/s eta 0:00:01\n",
      "   ---------------------------------------  23.8/24.0 MB 6.5 MB/s eta 0:00:01\n",
      "   ---------------------------------------  23.8/24.0 MB 6.4 MB/s eta 0:00:01\n",
      "   ---------------------------------------  24.0/24.0 MB 6.3 MB/s eta 0:00:01\n",
      "   ---------------------------------------  24.0/24.0 MB 6.3 MB/s eta 0:00:01\n",
      "   ---------------------------------------  24.0/24.0 MB 6.3 MB/s eta 0:00:01\n",
      "   ---------------------------------------  24.0/24.0 MB 6.3 MB/s eta 0:00:01\n",
      "   ---------------------------------------- 24.0/24.0 MB 5.7 MB/s eta 0:00:00\n",
      "Installing collected packages: gensim\n",
      "  Attempting uninstall: gensim\n",
      "    Found existing installation: gensim 4.3.2\n",
      "    Uninstalling gensim-4.3.2:\n",
      "      Successfully uninstalled gensim-4.3.2\n",
      "Successfully installed gensim-4.3.3\n",
      "Note: you may need to restart the kernel to use updated packages.\n"
     ]
    }
   ],
   "source": [
    "pip install --upgrade scipy gensim"
   ]
  },
  {
   "cell_type": "code",
   "execution_count": 37,
   "metadata": {},
   "outputs": [
    {
     "ename": "ImportError",
     "evalue": "cannot import name 'triu' from 'scipy.linalg' (c:\\Users\\lsrin\\anaconda3\\Lib\\site-packages\\scipy\\linalg\\__init__.py)",
     "output_type": "error",
     "traceback": [
      "\u001b[1;31m---------------------------------------------------------------------------\u001b[0m",
      "\u001b[1;31mImportError\u001b[0m                               Traceback (most recent call last)",
      "Cell \u001b[1;32mIn[37], line 1\u001b[0m\n\u001b[1;32m----> 1\u001b[0m \u001b[38;5;28;01mfrom\u001b[39;00m \u001b[38;5;21;01mgensim\u001b[39;00m\u001b[38;5;21;01m.\u001b[39;00m\u001b[38;5;21;01mmodels\u001b[39;00m \u001b[38;5;28;01mimport\u001b[39;00m Word2Vec\n\u001b[0;32m      2\u001b[0m \u001b[38;5;28;01mimport\u001b[39;00m \u001b[38;5;21;01mnltk\u001b[39;00m\n\u001b[0;32m      3\u001b[0m nltk\u001b[38;5;241m.\u001b[39mdownload(\u001b[38;5;124m'\u001b[39m\u001b[38;5;124mpunkt\u001b[39m\u001b[38;5;124m'\u001b[39m)\n",
      "File \u001b[1;32mc:\\Users\\lsrin\\anaconda3\\Lib\\site-packages\\gensim\\__init__.py:11\u001b[0m\n\u001b[0;32m      7\u001b[0m __version__ \u001b[38;5;241m=\u001b[39m \u001b[38;5;124m'\u001b[39m\u001b[38;5;124m4.3.2\u001b[39m\u001b[38;5;124m'\u001b[39m\n\u001b[0;32m      9\u001b[0m \u001b[38;5;28;01mimport\u001b[39;00m \u001b[38;5;21;01mlogging\u001b[39;00m\n\u001b[1;32m---> 11\u001b[0m \u001b[38;5;28;01mfrom\u001b[39;00m \u001b[38;5;21;01mgensim\u001b[39;00m \u001b[38;5;28;01mimport\u001b[39;00m parsing, corpora, matutils, interfaces, models, similarities, utils  \u001b[38;5;66;03m# noqa:F401\u001b[39;00m\n\u001b[0;32m     14\u001b[0m logger \u001b[38;5;241m=\u001b[39m logging\u001b[38;5;241m.\u001b[39mgetLogger(\u001b[38;5;124m'\u001b[39m\u001b[38;5;124mgensim\u001b[39m\u001b[38;5;124m'\u001b[39m)\n\u001b[0;32m     15\u001b[0m \u001b[38;5;28;01mif\u001b[39;00m \u001b[38;5;129;01mnot\u001b[39;00m logger\u001b[38;5;241m.\u001b[39mhandlers:  \u001b[38;5;66;03m# To ensure reload() doesn't add another one\u001b[39;00m\n",
      "File \u001b[1;32mc:\\Users\\lsrin\\anaconda3\\Lib\\site-packages\\gensim\\corpora\\__init__.py:6\u001b[0m\n\u001b[0;32m      1\u001b[0m \u001b[38;5;124;03m\"\"\"\u001b[39;00m\n\u001b[0;32m      2\u001b[0m \u001b[38;5;124;03mThis package contains implementations of various streaming corpus I/O format.\u001b[39;00m\n\u001b[0;32m      3\u001b[0m \u001b[38;5;124;03m\"\"\"\u001b[39;00m\n\u001b[0;32m      5\u001b[0m \u001b[38;5;66;03m# bring corpus classes directly into package namespace, to save some typing\u001b[39;00m\n\u001b[1;32m----> 6\u001b[0m \u001b[38;5;28;01mfrom\u001b[39;00m \u001b[38;5;21;01m.\u001b[39;00m\u001b[38;5;21;01mindexedcorpus\u001b[39;00m \u001b[38;5;28;01mimport\u001b[39;00m IndexedCorpus  \u001b[38;5;66;03m# noqa:F401 must appear before the other classes\u001b[39;00m\n\u001b[0;32m      8\u001b[0m \u001b[38;5;28;01mfrom\u001b[39;00m \u001b[38;5;21;01m.\u001b[39;00m\u001b[38;5;21;01mmmcorpus\u001b[39;00m \u001b[38;5;28;01mimport\u001b[39;00m MmCorpus  \u001b[38;5;66;03m# noqa:F401\u001b[39;00m\n\u001b[0;32m      9\u001b[0m \u001b[38;5;28;01mfrom\u001b[39;00m \u001b[38;5;21;01m.\u001b[39;00m\u001b[38;5;21;01mbleicorpus\u001b[39;00m \u001b[38;5;28;01mimport\u001b[39;00m BleiCorpus  \u001b[38;5;66;03m# noqa:F401\u001b[39;00m\n",
      "File \u001b[1;32mc:\\Users\\lsrin\\anaconda3\\Lib\\site-packages\\gensim\\corpora\\indexedcorpus.py:14\u001b[0m\n\u001b[0;32m     10\u001b[0m \u001b[38;5;28;01mimport\u001b[39;00m \u001b[38;5;21;01mlogging\u001b[39;00m\n\u001b[0;32m     12\u001b[0m \u001b[38;5;28;01mimport\u001b[39;00m \u001b[38;5;21;01mnumpy\u001b[39;00m\n\u001b[1;32m---> 14\u001b[0m \u001b[38;5;28;01mfrom\u001b[39;00m \u001b[38;5;21;01mgensim\u001b[39;00m \u001b[38;5;28;01mimport\u001b[39;00m interfaces, utils\n\u001b[0;32m     16\u001b[0m logger \u001b[38;5;241m=\u001b[39m logging\u001b[38;5;241m.\u001b[39mgetLogger(\u001b[38;5;18m__name__\u001b[39m)\n\u001b[0;32m     19\u001b[0m \u001b[38;5;28;01mclass\u001b[39;00m \u001b[38;5;21;01mIndexedCorpus\u001b[39;00m(interfaces\u001b[38;5;241m.\u001b[39mCorpusABC):\n",
      "File \u001b[1;32mc:\\Users\\lsrin\\anaconda3\\Lib\\site-packages\\gensim\\interfaces.py:19\u001b[0m\n\u001b[0;32m      7\u001b[0m \u001b[38;5;124;03m\"\"\"Basic interfaces used across the whole Gensim package.\u001b[39;00m\n\u001b[0;32m      8\u001b[0m \n\u001b[0;32m      9\u001b[0m \u001b[38;5;124;03mThese interfaces are used for building corpora, model transformation and similarity queries.\u001b[39;00m\n\u001b[1;32m   (...)\u001b[0m\n\u001b[0;32m     14\u001b[0m \n\u001b[0;32m     15\u001b[0m \u001b[38;5;124;03m\"\"\"\u001b[39;00m\n\u001b[0;32m     17\u001b[0m \u001b[38;5;28;01mimport\u001b[39;00m \u001b[38;5;21;01mlogging\u001b[39;00m\n\u001b[1;32m---> 19\u001b[0m \u001b[38;5;28;01mfrom\u001b[39;00m \u001b[38;5;21;01mgensim\u001b[39;00m \u001b[38;5;28;01mimport\u001b[39;00m utils, matutils\n\u001b[0;32m     22\u001b[0m logger \u001b[38;5;241m=\u001b[39m logging\u001b[38;5;241m.\u001b[39mgetLogger(\u001b[38;5;18m__name__\u001b[39m)\n\u001b[0;32m     25\u001b[0m \u001b[38;5;28;01mclass\u001b[39;00m \u001b[38;5;21;01mCorpusABC\u001b[39;00m(utils\u001b[38;5;241m.\u001b[39mSaveLoad):\n",
      "File \u001b[1;32mc:\\Users\\lsrin\\anaconda3\\Lib\\site-packages\\gensim\\matutils.py:20\u001b[0m\n\u001b[0;32m     18\u001b[0m \u001b[38;5;28;01mimport\u001b[39;00m \u001b[38;5;21;01mscipy\u001b[39;00m\u001b[38;5;21;01m.\u001b[39;00m\u001b[38;5;21;01msparse\u001b[39;00m\n\u001b[0;32m     19\u001b[0m \u001b[38;5;28;01mfrom\u001b[39;00m \u001b[38;5;21;01mscipy\u001b[39;00m\u001b[38;5;21;01m.\u001b[39;00m\u001b[38;5;21;01mstats\u001b[39;00m \u001b[38;5;28;01mimport\u001b[39;00m entropy\n\u001b[1;32m---> 20\u001b[0m \u001b[38;5;28;01mfrom\u001b[39;00m \u001b[38;5;21;01mscipy\u001b[39;00m\u001b[38;5;21;01m.\u001b[39;00m\u001b[38;5;21;01mlinalg\u001b[39;00m \u001b[38;5;28;01mimport\u001b[39;00m get_blas_funcs, triu\n\u001b[0;32m     21\u001b[0m \u001b[38;5;28;01mfrom\u001b[39;00m \u001b[38;5;21;01mscipy\u001b[39;00m\u001b[38;5;21;01m.\u001b[39;00m\u001b[38;5;21;01mlinalg\u001b[39;00m\u001b[38;5;21;01m.\u001b[39;00m\u001b[38;5;21;01mlapack\u001b[39;00m \u001b[38;5;28;01mimport\u001b[39;00m get_lapack_funcs\n\u001b[0;32m     22\u001b[0m \u001b[38;5;28;01mfrom\u001b[39;00m \u001b[38;5;21;01mscipy\u001b[39;00m\u001b[38;5;21;01m.\u001b[39;00m\u001b[38;5;21;01mspecial\u001b[39;00m \u001b[38;5;28;01mimport\u001b[39;00m psi  \u001b[38;5;66;03m# gamma function utils\u001b[39;00m\n",
      "\u001b[1;31mImportError\u001b[0m: cannot import name 'triu' from 'scipy.linalg' (c:\\Users\\lsrin\\anaconda3\\Lib\\site-packages\\scipy\\linalg\\__init__.py)"
     ]
    }
   ],
   "source": [
    "from gensim.models import Word2Vec\n",
    "import nltk\n",
    "nltk.download('punkt')\n",
    "from nltk.tokenize import word_tokenize\n",
    "\n",
    "# Tokenize text for Word2Vec\n",
    "df[\"tokenized_text\"] = df[\"preprocessed_text\"].apply(word_tokenize)\n",
    "\n",
    "# Train Word2Vec model\n",
    "word2vec_model = Word2Vec(sentences=df[\"tokenized_text\"], vector_size=100, window=5, min_count=1, workers=4)\n",
    "\n",
    "# Check most similar words to \"భారతదేశం\" (example for Telugu)\n",
    "if \"భారతదేశం\" in word2vec_model.wv:\n",
    "    print(word2vec_model.wv.most_similar(\"భారతదేశం\"))\n"
   ]
  },
  {
   "cell_type": "code",
   "execution_count": null,
   "metadata": {},
   "outputs": [],
   "source": [
    "# Consider Unicode patterns, as some languages share scripts (e.g., Hindi and Marathi in\n",
    "# # Devanagari)."
   ]
  },
  {
   "cell_type": "code",
   "execution_count": 51,
   "metadata": {},
   "outputs": [
    {
     "name": "stdout",
     "output_type": "stream",
     "text": [
      "                                   preprocessed_text detected_script\n",
      "0  భారతదేశం కోట్లకు పైగా జనాభాతో ప్రపంచంలో మొదటి ...          Telugu\n",
      "1  भारत आधिकारिक नाम भारत गणराज्य अंग्रेज़ी repub...      Devanagari\n",
      "2  ಭಾರತ ಅಧಿಕೃತವಾಗಿ ಭಾರತ ಗಣರಾಜ್ಯ ಅಥವಾ ಇಂಡಿಯಾ india...         Kannada\n"
     ]
    }
   ],
   "source": [
    "\n",
    "# Define Unicode ranges for scripts\n",
    "unicode_scripts = {\n",
    "    \"Devanagari\": r\"[\\u0900-\\u097F]\",  # Hindi, Marathi, Nepali\n",
    "    \"Telugu\": r\"[\\u0C00-\\u0C7F]\",      # Telugu\n",
    "    \"Kannada\": r\"[\\u0C80-\\u0CFF]\",     # Kannada\n",
    "}\n",
    "\n",
    "# Function to detect script\n",
    "def detect_script(text):\n",
    "    for script, pattern in unicode_scripts.items():\n",
    "        if re.search(pattern, text):\n",
    "            return script\n",
    "    return \"Unknown\"\n",
    "\n",
    "# Apply script detection to the dataset\n",
    "df[\"detected_script\"] = df[\"preprocessed_text\"].apply(detect_script)\n",
    "\n",
    "# Show results\n",
    "print(df[[\"preprocessed_text\", \"detected_script\"]])\n"
   ]
  },
  {
   "cell_type": "markdown",
   "metadata": {},
   "source": [
    "<!-- Step 2: Implementing Traditional ML Model (Logistic Regression) -->"
   ]
  },
  {
   "cell_type": "code",
   "execution_count": 22,
   "metadata": {},
   "outputs": [
    {
     "name": "stdout",
     "output_type": "stream",
     "text": [
      "    language                                  preprocessed_text\n",
      "0     Telugu  భారతదేశం కోట్లకు పైగా జనాభాతో ప్రపంచంలో మొదటి ...\n",
      "1     Telugu  భారతదేశం కోట్లకు పైగా జనాభాతో ప్రపంచంలో మొదటి ...\n",
      "2    Kannada  ಭಾರತ ಅಧಿಕೃತವಾಗಿ ಭಾರತ ಗಣರಾಜ್ಯ ಅಥವಾ ಇಂಡಿಯಾ india...\n",
      "3    Kannada  ಭಾರತ ಅಧಿಕೃತವಾಗಿ ಭಾರತ ಗಣರಾಜ್ಯ ಅಥವಾ ಇಂಡಿಯಾ india...\n",
      "4      Hindi  भारत आधिकारिक नाम भारत गणराज्य अंग्रेज़ी repub...\n",
      "..       ...                                                ...\n",
      "224    Hindi  भारत आधिकारिक नाम भारत गणराज्य अंग्रेज़ी repub...\n",
      "225  Kannada  ಭಾರತ ಅಧಿಕೃತವಾಗಿ ಭಾರತ ಗಣರಾಜ್ಯ ಅಥವಾ ಇಂಡಿಯಾ india...\n",
      "226  Kannada  ಭಾರತ ಅಧಿಕೃತವಾಗಿ ಭಾರತ ಗಣರಾಜ್ಯ ಅಥವಾ ಇಂಡಿಯಾ india...\n",
      "227   Telugu  భారతదేశం కోట్లకు పైగా జనాభాతో ప్రపంచంలో మొదటి ...\n",
      "228   Telugu  భారతదేశం కోట్లకు పైగా జనాభాతో ప్రపంచంలో మొదటి ...\n",
      "\n",
      "[229 rows x 2 columns]\n"
     ]
    }
   ],
   "source": [
    "# Display the preprocessed text\n",
    "print(df[[\"language\", \"preprocessed_text\"]])"
   ]
  },
  {
   "cell_type": "code",
   "execution_count": 23,
   "metadata": {},
   "outputs": [
    {
     "name": "stderr",
     "output_type": "stream",
     "text": [
      "c:\\Users\\lsrin\\anaconda3\\Lib\\site-packages\\sklearn\\feature_extraction\\text.py:555: UserWarning: The parameter 'token_pattern' will not be used since 'analyzer' != 'word'\n",
      "  warnings.warn(\n"
     ]
    },
    {
     "name": "stdout",
     "output_type": "stream",
     "text": [
      "Logistic Regression Accuracy: 1.0\n",
      "\n",
      "Classification Report:\n",
      "              precision    recall  f1-score   support\n",
      "\n",
      "      Telugu       1.00      1.00      1.00        17\n",
      "       Hindi       1.00      1.00      1.00        15\n",
      "     Kannada       1.00      1.00      1.00        14\n",
      "\n",
      "    accuracy                           1.00        46\n",
      "   macro avg       1.00      1.00      1.00        46\n",
      "weighted avg       1.00      1.00      1.00        46\n",
      "\n"
     ]
    },
    {
     "data": {
      "image/png": "[encoded data removed]",
      "text/plain": [
       "<Figure size 800x600 with 2 Axes>"
      ]
     },
     "metadata": {},
     "output_type": "display_data"
    },
    {
     "name": "stdout",
     "output_type": "stream",
     "text": [
      "\n",
      "Testing with example texts:\n",
      "Text: నమస్కారం ఎలా ఉన్నారు\n",
      "Predicted Language: Telugu\n",
      "\n",
      "Text: नमस्ते कैसे हो\n",
      "Predicted Language: Hindi\n",
      "\n",
      "Text: ನಮಸ್ಕಾರ ಹೇಗಿದ್ದೀರಿ\n",
      "Predicted Language: Kannada\n",
      "\n"
     ]
    }
   ],
   "source": [
    "from sklearn.model_selection import train_test_split, cross_val_score\n",
    "from sklearn.feature_extraction.text import TfidfVectorizer\n",
    "from sklearn.linear_model import LogisticRegression\n",
    "from sklearn.metrics import accuracy_score, classification_report, confusion_matrix\n",
    "from sklearn.preprocessing import LabelEncoder\n",
    "import seaborn as sns\n",
    "import matplotlib.pyplot as plt\n",
    "\n",
    "# First, encode the labels\n",
    "le = LabelEncoder()\n",
    "y = le.fit_transform(df[\"language\"])\n",
    "\n",
    "# Improved TF-IDF vectorization specifically for Indian languages\n",
    "vectorizer = TfidfVectorizer(\n",
    "    ngram_range=(1, 3),     # Using 1-3 character n-grams\n",
    "    analyzer='char',        # Character level is better for these scripts\n",
    "    max_features=10000,     # Increased features for better script capture\n",
    "    sublinear_tf=True,      # Apply sublinear scaling\n",
    "    # Unicode ranges for Telugu, Hindi, and Kannada\n",
    "    token_pattern=r'[^\\s]+' # Capture all non-whitespace characters\n",
    ")\n",
    "X = vectorizer.fit_transform(df[\"preprocessed_text\"])\n",
    "\n",
    "# Split dataset with stratification\n",
    "X_train, X_test, y_train, y_test = train_test_split(\n",
    "    X, y, test_size=0.2, random_state=42, stratify=y\n",
    ")\n",
    "\n",
    "# Train Logistic Regression with improved parameters\n",
    "lr_model = LogisticRegression(\n",
    "    max_iter=2000,          # Increased iterations\n",
    "    C=0.1,                  # Stronger regularization\n",
    "    multi_class='multinomial',\n",
    "    solver='lbfgs',\n",
    "    random_state=42\n",
    ")\n",
    "lr_model.fit(X_train, y_train)\n",
    "\n",
    "# Predictions\n",
    "y_pred = lr_model.predict(X_test)\n",
    "\n",
    "# Print results\n",
    "print(\"Logistic Regression Accuracy:\", accuracy_score(y_test, y_pred))\n",
    "print(\"\\nClassification Report:\")\n",
    "print(classification_report(y_test, y_pred, target_names=[\"Telugu\", \"Hindi\", \"Kannada\"]))\n",
    "\n",
    "# Plot confusion matrix\n",
    "plt.figure(figsize=(8, 6))\n",
    "cm = confusion_matrix(y_test, y_pred)\n",
    "sns.heatmap(cm, annot=True, fmt='d', cmap='Blues',\n",
    "            xticklabels=[\"Telugu\", \"Hindi\", \"Kannada\"],\n",
    "            yticklabels=[\"Telugu\", \"Hindi\", \"Kannada\"])\n",
    "plt.title('Confusion Matrix')\n",
    "plt.ylabel('True Label')\n",
    "plt.xlabel('Predicted Label')\n",
    "plt.show()\n",
    "\n",
    "# Test the model with some example text\n",
    "def predict_language(text):\n",
    "    # Preprocess the text using your existing preprocess_text function\n",
    "    processed_text = preprocess_text(text, \"Unknown\")\n",
    "    # Transform the text using the vectorizer\n",
    "    text_features = vectorizer.transform([processed_text])\n",
    "    # Predict\n",
    "    prediction = lr_model.predict(text_features)\n",
    "    return le.inverse_transform(prediction)[0]\n",
    "\n",
    "# Example usage:\n",
    "example_texts = [\n",
    "    \"నమస్కారం ఎలా ఉన్నారు\",  # Telugu\n",
    "    \"नमस्ते कैसे हो\",          # Hindi\n",
    "    \"ನಮಸ್ಕಾರ ಹೇಗಿದ್ದೀರಿ\"      # Kannada\n",
    "]\n",
    "\n",
    "print(\"\\nTesting with example texts:\")\n",
    "for text in example_texts:\n",
    "    print(f\"Text: {text}\")\n",
    "    print(f\"Predicted Language: {predict_language(text)}\\n\")"
   ]
  },
  {
   "cell_type": "code",
   "execution_count": null,
   "metadata": {},
   "outputs": [],
   "source": []
  }
 ],
 "metadata": {
  "kernelspec": {
   "display_name": "base",
   "language": "python",
   "name": "python3"
  },
  "language_info": {
   "codemirror_mode": {
    "name": "ipython",
    "version": 3
   },
   "file_extension": ".py",
   "mimetype": "text/x-python",
   "name": "python",
   "nbconvert_exporter": "python",
   "pygments_lexer": "ipython3",
   "version": "3.12.4"
  }
 },
 "nbformat": 4,
 "nbformat_minor": 2
}
