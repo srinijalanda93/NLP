{
 "cells": [
  {
   "cell_type": "code",
   "execution_count": 11,
   "metadata": {},
   "outputs": [],
   "source": [
    "# pip install pandas"
   ]
  },
  {
   "cell_type": "code",
   "execution_count": 1,
   "metadata": {},
   "outputs": [],
   "source": [
    "import pandas as pd\n",
    "import numpy as  np\n",
    "import matplotlib.pyplot as plt"
   ]
  },
  {
   "cell_type": "code",
   "execution_count": 13,
   "metadata": {},
   "outputs": [],
   "source": [
    "# pip install nltk"
   ]
  },
  {
   "cell_type": "code",
   "execution_count": 14,
   "metadata": {},
   "outputs": [],
   "source": [
    "# pip install sklearn"
   ]
  },
  {
   "cell_type": "code",
   "execution_count": 2,
   "metadata": {},
   "outputs": [],
   "source": [
    "import nltk\n",
    "import re\n",
    "import string\n",
    "from sklearn.model_selection import train_test_split\n",
    "import seaborn as sns\n",
    "import os"
   ]
  },
  {
   "cell_type": "code",
   "execution_count": 5,
   "metadata": {},
   "outputs": [
    {
     "name": "stdout",
     "output_type": "stream",
     "text": [
      "   SNo                                               text\n",
      "0    0  \\r\\n    సుశీలమ్మ కళ్ళలో భయం పారాడింది.\\r\\n    ...\n",
      "1    1                                                ...\n",
      "2    2      \"ఎలా వుంది ఫ్రెండ్..... \"\\n\\r\\n    \"టప్ టప...\n",
      "3    3      \"అది ఊరుకున్నా  మీరు వుండలేరు. మీరిద్దరే  ...\n",
      "         SNo                                               text\n",
      "25789  25789  \\r\\n    16. శత్రు పరిహారములు, ధనలాభము కలుగు సర...\n",
      "25790  25790      \"హమ్మో.... హమ్మో.... నా పరువు తీసేస్తున్నా...\n",
      "25791  25791           భర్త శత్రువుగా భావించే వ్యక్తిని, భర్...\n",
      "25792  25792  \\r\\n    \"అంటే ఏముంది? నా మీద విసుగుపుట్టి చెప్...\n",
      "         SNo                                               text\n",
      "8634    8634  \\n\\r\\n    \"ఏమిటి నీకు తెలిసిన ఆ ఆరో రహస్యం?\"\\n...\n",
      "14278  14278  \\r\\n            \\n                            ...\n",
      "24020  24020  \\r\\n    అప్పటికి బీరుసీసా ఖాళీ అయింది.\\n\\r\\n  ...\n",
      "20068  20068  \\r\\n    \"ఒకరిని విడిచి ఒకరు వుండలేకపోవడమే ఆప్య...\n",
      "15959  15959      \"నేనేమంటానమ్మా? నిన్నూ, మీ నాన్ననూ అడిగి చ...\n",
      "51586\n",
      "(25793, 2)\n"
     ]
    }
   ],
   "source": [
    "file=pd.read_csv('telugu_books.csv')\n",
    "print(file.head(4))\n",
    "print(file.tail(4))\n",
    "print(file.sample(5))\n",
    "print(file.size)\n",
    "print(file.shape)"
   ]
  },
  {
   "cell_type": "code",
   "execution_count": 8,
   "metadata": {},
   "outputs": [
    {
     "data": {
      "text/plain": [
       "Index(['SNo', 'text'], dtype='object')"
      ]
     },
     "execution_count": 8,
     "metadata": {},
     "output_type": "execute_result"
    }
   ],
   "source": [
    "file.columns"
   ]
  },
  {
   "cell_type": "code",
   "execution_count": 7,
   "metadata": {},
   "outputs": [
    {
     "data": {
      "text/plain": [
       "SNo      0\n",
       "text    19\n",
       "dtype: int64"
      ]
     },
     "execution_count": 7,
     "metadata": {},
     "output_type": "execute_result"
    }
   ],
   "source": [
    "file.isna().sum()"
   ]
  },
  {
   "cell_type": "code",
   "execution_count": null,
   "metadata": {},
   "outputs": [],
   "source": []
  }
 ],
 "metadata": {
  "kernelspec": {
   "display_name": "base",
   "language": "python",
   "name": "python3"
  },
  "language_info": {
   "codemirror_mode": {
    "name": "ipython",
    "version": 3
   },
   "file_extension": ".py",
   "mimetype": "text/x-python",
   "name": "python",
   "nbconvert_exporter": "python",
   "pygments_lexer": "ipython3",
   "version": "3.12.4"
  }
 },
 "nbformat": 4,
 "nbformat_minor": 2
}
